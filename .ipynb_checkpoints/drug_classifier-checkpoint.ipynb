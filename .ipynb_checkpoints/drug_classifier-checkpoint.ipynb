{
 "cells": [
  {
   "cell_type": "markdown",
   "id": "2105d29e",
   "metadata": {},
   "source": [
    "Problem Statement:\n",
    "    Imagine that you are a medical researcher compiling data for a study. You have collected data about a set of patients, all of whom suffered from the same illness. During their course of treatment, each patient responded to one of 5 medications, Drug A, Drug B, Drug c, Drug x and y.\n",
    "\n",
    "Part of your job is to build a model to find out which drug might be appropriate for a future patient with the same illness. The features of this dataset are Age, Sex, Blood Pressure, and the Cholesterol of the patients, and the target is the drug that each patient responded to.\n",
    "\n",
    "It is a sample of multiclass classifier, and you can use the training part of the dataset to build a decision tree, and then use it to predict the class of a unknown patient, or to prescribe a drug to a new patient.\n",
    "\n",
    "Approach:\n",
    "\n",
    "A decision tree can be built with target variable drug & all other variable will be independent in the analysis."
   ]
  },
  {
   "cell_type": "code",
   "execution_count": 1,
   "id": "9275085c",
   "metadata": {},
   "outputs": [],
   "source": [
    "#Loading dataset using csv module\n",
    "import csv\n",
    "\n",
    "data = []\n",
    "with open('drug200.csv', 'r') as f:\n",
    "    csvreader = csv.reader(f)\n",
    "    headers = next(csvreader) # Get the headers\n",
    "    for row in csvreader:\n",
    "        data.append(row)"
   ]
  },
  {
   "cell_type": "code",
   "execution_count": 2,
   "id": "04044f8d",
   "metadata": {},
   "outputs": [],
   "source": [
    "# Check for null values\n",
    "for row in data:\n",
    "    for value in row:\n",
    "        if value is None or value == \"\":\n",
    "            print(\"Null value found!\")\n",
    "        #else:\n",
    "           # print('No null values found')"
   ]
  },
  {
   "cell_type": "code",
   "execution_count": 3,
   "id": "860ef453",
   "metadata": {},
   "outputs": [],
   "source": [
    "# Check for duplicate values\n",
    "unique_values = set()\n",
    "for row in data:\n",
    "    row_tuple = tuple(row)\n",
    "    if row_tuple in unique_values:\n",
    "        print(\"Duplicate found!\")\n",
    "    else:\n",
    "        unique_values.add(row_tuple)"
   ]
  },
  {
   "cell_type": "code",
   "execution_count": 24,
   "id": "4a20fc11",
   "metadata": {},
   "outputs": [],
   "source": [
    "import random\n",
    "class DataFrame:\n",
    "    def __init__(self, data):\n",
    "        self.data = data\n",
    "        self.headers = list(data.keys())\n",
    "        self.n_rows = len(list(data.values())[0])\n",
    "        self.n_cols = len(data)\n",
    "        self.types = self._infer_types()\n",
    "        \n",
    "    \"\"\"Head method prints top 5 rows by default\"\"\"\n",
    "    def head(self, n=5):\n",
    "        for header in self.headers:\n",
    "            print(header, end='\\t')\n",
    "        print()\n",
    "        for i in range(n):\n",
    "            for j, header in enumerate(self.headers):\n",
    "                print(self.data[header][i], end='\\t')\n",
    "            print()\n",
    "            \n",
    "    \"\"\"The _infer_types() method infers the data type of each column based on the types of the values in the column.\n",
    "        It creates a dictionary mapping column names to data types. If all values in a column have the same type,\n",
    "        that type is used as the column's data type. Otherwise, the column is treated as an object column.\"\"\"\n",
    "    def _infer_types(self):\n",
    "        types = {}\n",
    "        for header in self.headers:\n",
    "            column = self.data[header]\n",
    "            type_set = set(type(x).__name__ for x in column)\n",
    "            if len(type_set) == 1:\n",
    "                types[header] = type_set.pop()\n",
    "            else:\n",
    "                types[header] = 'object'\n",
    "        return types\n",
    "    \n",
    "    \"\"\"The _convert_column() method converts the data type of a column to a new type,\n",
    "        using the built-in int(), float(), or str() functions.\"\"\"\n",
    "    def _convert_column(self, header, new_type):\n",
    "        column = self.data[header]\n",
    "        if new_type == 'int':\n",
    "            self.data[header] = [int(x) for x in column]\n",
    "        elif new_type == 'float':\n",
    "            self.data[header] = [float(x) for x in column]\n",
    "        elif new_type == 'str':\n",
    "            self.data[header] = [str(x) for x in column]\n",
    "        else:\n",
    "            raise ValueError('Invalid data type')\n",
    "    \n",
    "    \"\"\"The convert_type() method allows the user to convert the data type of a specific column to a new type.\n",
    "        It first checks that the column name and new data type are valid,\n",
    "        then checks whether the current data type of the column matches the new data type.\n",
    "        If it does, no conversion is needed. Otherwise, it calls the _convert_column() method to perform the conversion \n",
    "        and updates the column's data type in the types dictionary.\"\"\"\n",
    "    def convert_type(self, header, new_type):\n",
    "        if header not in self.headers:\n",
    "            raise ValueError('Invalid header')\n",
    "        if new_type not in ('int', 'float', 'str'):\n",
    "            raise ValueError('Invalid data type')\n",
    "        current_type = self.types[header]\n",
    "        if new_type == current_type:\n",
    "            return\n",
    "        self._convert_column(header, new_type)\n",
    "        self.types[header] = new_type\n",
    "        \n",
    "    def unique_values(self):\n",
    "        unique_values_dict = {}\n",
    "        for header in self.headers:\n",
    "            unique_values_dict[header] = list(set(self.data[header]))\n",
    "        return unique_values_dict\n",
    "    \n",
    "    def cat_to_num(self,column):\n",
    "        unique_categories=list(set(self.data[column]))#get unique categorical values in column\n",
    "        mapping= {category: i for i, category in enumerate(unique_categories)}  #create dict to map each unique categorical to a numerical value\n",
    "        #Replace each categorical value with its corresponding numerical value\n",
    "        for i in range(self.n_rows):\n",
    "            self.data[column][i]=mapping[self.data[column][i]]\n",
    "            \n",
    "    def split_train_test(self, split_ratio):\n",
    "        if not 0 <= split_ratio <= 1:\n",
    "            raise ValueError('Invalid split ratio')\n",
    "        n_rows = self.n_rows\n",
    "        n_train = int(split_ratio * n_rows)\n",
    "        train_indices = set(random.sample(range(n_rows), n_train))\n",
    "        test_indices = set(range(n_rows)) - train_indices\n",
    "        train_data = {header: [self.data[header][i] for i in train_indices] for header in self.headers}\n",
    "        test_data = {header: [self.data[header][i] for i in test_indices] for header in self.headers}\n",
    "        train_df = DataFrame(train_data)\n",
    "        test_df = DataFrame(test_data)\n",
    "        return train_df, test_df\n"
   ]
  },
  {
   "cell_type": "code",
   "execution_count": 5,
   "id": "ccf07cca",
   "metadata": {},
   "outputs": [],
   "source": [
    "# Convert to dictionary\n",
    "data_dict = {}\n",
    "for i, header in enumerate(headers):\n",
    "    data_dict[header] = [row[i] for row in data]"
   ]
  },
  {
   "cell_type": "code",
   "execution_count": 6,
   "id": "7cbda132",
   "metadata": {},
   "outputs": [],
   "source": [
    "#convert to dataframe\n",
    "df = DataFrame(data_dict)"
   ]
  },
  {
   "cell_type": "code",
   "execution_count": 7,
   "id": "60a5ef7b",
   "metadata": {},
   "outputs": [
    {
     "data": {
      "text/plain": [
       "<__main__.DataFrame at 0x29c05abbf70>"
      ]
     },
     "execution_count": 7,
     "metadata": {},
     "output_type": "execute_result"
    }
   ],
   "source": [
    "df"
   ]
  },
  {
   "cell_type": "code",
   "execution_count": 8,
   "id": "cd61e6ed",
   "metadata": {},
   "outputs": [
    {
     "name": "stdout",
     "output_type": "stream",
     "text": [
      "Age\tSex\tBP\tCholesterol\tNa_to_K\tDrug\t\n",
      "23\tF\tHIGH\tHIGH\t25.355\tdrugY\t\n",
      "47\tM\tLOW\tHIGH\t13.093\tdrugC\t\n",
      "47\tM\tLOW\tHIGH\t10.114\tdrugC\t\n",
      "28\tF\tNORMAL\tHIGH\t7.798\tdrugX\t\n",
      "61\tF\tLOW\tHIGH\t18.043\tdrugY\t\n"
     ]
    }
   ],
   "source": [
    "#Shows top 5 rows\n",
    "df.head()"
   ]
  },
  {
   "cell_type": "code",
   "execution_count": 9,
   "id": "2a1877e5",
   "metadata": {},
   "outputs": [
    {
     "data": {
      "text/plain": [
       "(200, 6)"
      ]
     },
     "execution_count": 9,
     "metadata": {},
     "output_type": "execute_result"
    }
   ],
   "source": [
    "#shape of dataframe\n",
    "df.n_rows,df.n_cols"
   ]
  },
  {
   "cell_type": "code",
   "execution_count": 10,
   "id": "8b029856",
   "metadata": {},
   "outputs": [
    {
     "name": "stdout",
     "output_type": "stream",
     "text": [
      "{'Age': 'str', 'Sex': 'str', 'BP': 'str', 'Cholesterol': 'str', 'Na_to_K': 'str', 'Drug': 'str'}\n"
     ]
    }
   ],
   "source": [
    "# Print data types\n",
    "print(df.types)"
   ]
  },
  {
   "cell_type": "code",
   "execution_count": 11,
   "id": "446e3abe",
   "metadata": {},
   "outputs": [],
   "source": [
    "# Convert Age column to float\n",
    "df.convert_type('Age', 'int')\n",
    "df.convert_type('Na_to_K','float')"
   ]
  },
  {
   "cell_type": "code",
   "execution_count": 12,
   "id": "c8bdac70",
   "metadata": {},
   "outputs": [
    {
     "name": "stdout",
     "output_type": "stream",
     "text": [
      "{'Age': 'int', 'Sex': 'str', 'BP': 'str', 'Cholesterol': 'str', 'Na_to_K': 'float', 'Drug': 'str'}\n"
     ]
    }
   ],
   "source": [
    "# Print data types\n",
    "print(df.types)"
   ]
  },
  {
   "cell_type": "code",
   "execution_count": 13,
   "id": "83094518",
   "metadata": {},
   "outputs": [
    {
     "name": "stdout",
     "output_type": "stream",
     "text": [
      "{'Age': [15, 16, 17, 18, 19, 20, 21, 22, 23, 24, 25, 26, 28, 29, 30, 31, 32, 33, 34, 35, 36, 37, 38, 39, 40, 41, 42, 43, 45, 46, 47, 48, 49, 50, 51, 52, 53, 54, 55, 56, 57, 58, 59, 60, 61, 62, 63, 64, 65, 66, 67, 68, 69, 70, 72, 73, 74], 'Sex': ['F', 'M'], 'BP': ['NORMAL', 'HIGH', 'LOW'], 'Cholesterol': ['NORMAL', 'HIGH'], 'Na_to_K': [6.683, 7.798, 8.607, 7.298, 10.114, 11.037, 11.767, 13.972, 13.093, 12.703, 15.171, 16.275, 15.376, 18.043, 19.368, 19.199, 20.942, 15.516, 19.128, 25.355, 25.974, 25.917, 22.697, 27.183, 30.568, 30.366, 31.876, 33.486, 31.686, 27.826, 29.875, 29.45, 29.271, 38.247, 35.639, 8.75, 8.107, 37.188, 9.381, 9.567, 9.445, 9.677, 9.945, 10.189, 10.832, 10.067, 11.198, 11.326, 11.424, 11.939, 11.009, 12.854, 12.006, 11.262, 11.686, 11.567, 13.884, 15.79, 15.015, 15.436, 16.594, 16.725, 16.85, 16.753, 16.347, 17.951, 17.211, 17.225, 18.457, 18.295, 18.348, 18.991, 19.796, 19.161, 7.845, 20.909, 21.036, 22.905, 22.963, 23.091, 23.003, 24.658, 25.475, 25.969, 25.786, 25.741, 25.893, 27.064, 6.269, 6.769, 32.922, 33.542, 8.37, 34.997, 34.686, 9.281, 9.443, 9.894, 10.065, 10.537, 10.443, 10.446, 10.403, 11.455, 12.26, 12.495, 12.894, 12.879, 12.766, 13.967, 13.934, 13.769, 13.598, 15.156, 15.891, 7.285, 7.477, 7.34, 8.968, 8.151, 8.7, 8.011, 9.709, 9.084, 9.712, 9.514, 9.849, 10.291, 10.898, 10.605, 10.84, 10.977, 11.014, 11.34, 11.953, 11.343, 11.227, 11.349, 13.303, 14.133, 14.239, 14.16, 14.642, 14.02, 16.724, 16.31, 17.069, 17.206, 18.809, 18.703, 18.739, 19.221, 19.416, 19.675, 19.007, 7.761, 20.693, 20.013, 20.489, 7.261, 19.011, 20.932, 22.456, 22.818, 24.276, 25.395, 26.645, 27.05, 10.017, 28.294, 28.632, 7.49, 8.966, 8.621, 9.475, 9.17, 9.664, 10.091, 10.103, 10.292, 10.444, 11.871, 12.295, 12.856, 12.307, 12.923, 12.859, 13.938, 13.091, 13.313, 13.935, 13.597, 13.127, 14.216, 15.036, 15.478, 15.969, 15.49], 'Drug': ['drugY', 'drugC', 'drugX', 'drugA', 'drugB']}\n"
     ]
    }
   ],
   "source": [
    "unique_values_dict = df.unique_values()\n",
    "print(unique_values_dict)"
   ]
  },
  {
   "cell_type": "code",
   "execution_count": 14,
   "id": "21dcebfb",
   "metadata": {},
   "outputs": [],
   "source": [
    "#converting all categorical columns to numerical\n",
    "df.cat_to_num('Drug')\n",
    "df.cat_to_num('Sex')\n",
    "df.cat_to_num('BP')\n",
    "df.cat_to_num('Cholesterol')"
   ]
  },
  {
   "cell_type": "code",
   "execution_count": 15,
   "id": "6a437331",
   "metadata": {},
   "outputs": [
    {
     "name": "stdout",
     "output_type": "stream",
     "text": [
      "Age\tSex\tBP\tCholesterol\tNa_to_K\tDrug\t\n",
      "23\t0\t1\t1\t25.355\t0\t\n",
      "47\t1\t2\t1\t13.093\t1\t\n",
      "47\t1\t2\t1\t10.114\t1\t\n",
      "28\t0\t0\t1\t7.798\t2\t\n",
      "61\t0\t2\t1\t18.043\t0\t\n"
     ]
    }
   ],
   "source": [
    "df.head()"
   ]
  },
  {
   "cell_type": "code",
   "execution_count": 30,
   "id": "a7547106",
   "metadata": {},
   "outputs": [],
   "source": [
    "# Partition the dataset into training and testing datasets\n",
    "\n",
    "train_df, test_df = df.split_train_test(0.7)"
   ]
  },
  {
   "cell_type": "code",
   "execution_count": 45,
   "id": "fac617df",
   "metadata": {},
   "outputs": [
    {
     "data": {
      "text/plain": [
       "(140, 6)"
      ]
     },
     "execution_count": 45,
     "metadata": {},
     "output_type": "execute_result"
    }
   ],
   "source": [
    "#shape of train data\n",
    "train_df.n_rows,train_df.n_cols"
   ]
  },
  {
   "cell_type": "code",
   "execution_count": 46,
   "id": "466ea31b",
   "metadata": {},
   "outputs": [
    {
     "data": {
      "text/plain": [
       "(60, 6)"
      ]
     },
     "execution_count": 46,
     "metadata": {},
     "output_type": "execute_result"
    }
   ],
   "source": [
    "#shape of test data\n",
    "test_df.n_rows,test_df.n_cols"
   ]
  },
  {
   "cell_type": "code",
   "execution_count": 38,
   "id": "f8000e97",
   "metadata": {},
   "outputs": [],
   "source": [
    "target_col= 'Drug'\n",
    "# Get all column names except for the target column\n",
    "feature_cols = [col for col in train_df.headers if col != target_col]\n",
    "\n",
    "# Create X and Y dataframes by selecting the appropriate columns\n",
    "X_train = DataFrame({col: train_df.data[col] for col in feature_cols})\n",
    "y_train = DataFrame({target_col: train_df.data[target_col]})\n",
    "X_test = DataFrame({col: test_df.data[col] for col in feature_cols})\n",
    "y_test = DataFrame({target_col: test_df.data[target_col]})"
   ]
  },
  {
   "cell_type": "code",
   "execution_count": 49,
   "id": "603acbf1",
   "metadata": {},
   "outputs": [
    {
     "name": "stdout",
     "output_type": "stream",
     "text": [
      "Age\tSex\tBP\tCholesterol\tNa_to_K\t\n",
      "23\t0\t1\t1\t25.355\t\n",
      "47\t1\t2\t1\t10.114\t\n",
      "61\t0\t2\t1\t18.043\t\n",
      "22\t0\t0\t1\t8.607\t\n",
      "49\t0\t0\t1\t16.275\t\n"
     ]
    }
   ],
   "source": [
    "X_train.head()"
   ]
  },
  {
   "cell_type": "code",
   "execution_count": 51,
   "id": "7049de95",
   "metadata": {},
   "outputs": [
    {
     "name": "stdout",
     "output_type": "stream",
     "text": [
      "Drug\t\n",
      "0\t\n",
      "1\t\n",
      "0\t\n",
      "2\t\n",
      "0\t\n"
     ]
    }
   ],
   "source": [
    "y_train.head()"
   ]
  },
  {
   "cell_type": "code",
   "execution_count": null,
   "id": "c92e3dd8",
   "metadata": {},
   "outputs": [],
   "source": []
  }
 ],
 "metadata": {
  "kernelspec": {
   "display_name": "Python 3 (ipykernel)",
   "language": "python",
   "name": "python3"
  },
  "language_info": {
   "codemirror_mode": {
    "name": "ipython",
    "version": 3
   },
   "file_extension": ".py",
   "mimetype": "text/x-python",
   "name": "python",
   "nbconvert_exporter": "python",
   "pygments_lexer": "ipython3",
   "version": "3.9.13"
  }
 },
 "nbformat": 4,
 "nbformat_minor": 5
}
