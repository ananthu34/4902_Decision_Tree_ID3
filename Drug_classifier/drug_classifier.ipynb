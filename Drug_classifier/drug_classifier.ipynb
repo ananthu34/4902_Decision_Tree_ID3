{
 "cells": [
  {
   "cell_type": "markdown",
   "id": "2105d29e",
   "metadata": {},
   "source": [
    "Problem Statement:\n",
    "    Imagine that you are a medical researcher compiling data for a study. You have collected data about a set of patients, all of whom suffered from the same illness. During their course of treatment, each patient responded to one of 5 medications, Drug A, Drug B, Drug c, Drug x and y.\n",
    "\n",
    "Part of your job is to build a model to find out which drug might be appropriate for a future patient with the same illness. The features of this dataset are Age, Sex, Blood Pressure, and the Cholesterol of the patients, and the target is the drug that each patient responded to.\n",
    "\n",
    "It is a sample of multiclass classifier, and you can use the training part of the dataset to build a decision tree, and then use it to predict the class of a unknown patient, or to prescribe a drug to a new patient.\n",
    "\n",
    "Approach:\n",
    "\n",
    "A decision tree can be built with target variable drug & all other variable will be independent in the analysis."
   ]
  },
  {
   "cell_type": "code",
   "execution_count": 5,
   "id": "9275085c",
   "metadata": {},
   "outputs": [],
   "source": [
    "#Loading dataset using csv module\n",
    "import csv\n",
    "\n",
    "data = []\n",
    "with open('drug200.csv', 'r') as f:\n",
    "    csvreader = csv.reader(f)\n",
    "    headers = next(csvreader) # Get the headers\n",
    "    for row in csvreader:\n",
    "        data.append(row)"
   ]
  },
  {
   "cell_type": "code",
   "execution_count": 6,
   "id": "2fc580ef",
   "metadata": {},
   "outputs": [],
   "source": [
    "# Check for null values\n",
    "for row in data:\n",
    "    for value in row:\n",
    "        if value is None or value.strip() == \"\":\n",
    "            print(\"Null value found!\")\n",
    "\n",
    "        #else:\n",
    "           # print('No null values found')"
   ]
  },
  {
   "cell_type": "code",
   "execution_count": 7,
   "id": "7a6c5ffe",
   "metadata": {},
   "outputs": [],
   "source": [
    "# Check for duplicate values\n",
    "unique_values = set()\n",
    "for row in data:\n",
    "    row_tuple = tuple(row)\n",
    "    if row_tuple in unique_values:\n",
    "        print(\"Duplicate found!\")\n",
    "    else:\n",
    "        unique_values.add(row_tuple)"
   ]
  },
  {
   "cell_type": "code",
   "execution_count": 8,
   "id": "973cefe4",
   "metadata": {},
   "outputs": [
    {
     "data": {
      "text/plain": [
       "[['23', 'F', 'HIGH', 'HIGH', '25.355', 'drugY'],\n",
       " ['47', 'M', 'LOW', 'HIGH', '13.093', 'drugC'],\n",
       " ['47', 'M', 'LOW', 'HIGH', '10.114', 'drugC'],\n",
       " ['28', 'F', 'NORMAL', 'HIGH', '7.798', 'drugX'],\n",
       " ['61', 'F', 'LOW', 'HIGH', '18.043', 'drugY'],\n",
       " ['22', 'F', 'NORMAL', 'HIGH', '8.607', 'drugX'],\n",
       " ['49', 'F', 'NORMAL', 'HIGH', '16.275', 'drugY'],\n",
       " ['41', 'M', 'LOW', 'HIGH', '11.037', 'drugC'],\n",
       " ['60', 'M', 'NORMAL', 'HIGH', '15.171', 'drugY'],\n",
       " ['43', 'M', 'LOW', 'NORMAL', '19.368', 'drugY'],\n",
       " ['47', 'F', 'LOW', 'HIGH', '11.767', 'drugC'],\n",
       " ['34', 'F', 'HIGH', 'NORMAL', '19.199', 'drugY'],\n",
       " ['43', 'M', 'LOW', 'HIGH', '15.376', 'drugY'],\n",
       " ['74', 'F', 'LOW', 'HIGH', '20.942', 'drugY'],\n",
       " ['50', 'F', 'NORMAL', 'HIGH', '12.703', 'drugX'],\n",
       " ['16', 'F', 'HIGH', 'NORMAL', '15.516', 'drugY'],\n",
       " ['69', 'M', 'LOW', 'NORMAL', '11.455', 'drugX'],\n",
       " ['43', 'M', 'HIGH', 'HIGH', '13.972', 'drugA'],\n",
       " ['23', 'M', 'LOW', 'HIGH', '7.298', 'drugC'],\n",
       " ['32', 'F', 'HIGH', 'NORMAL', '25.974', 'drugY'],\n",
       " ['57', 'M', 'LOW', 'NORMAL', '19.128', 'drugY'],\n",
       " ['63', 'M', 'NORMAL', 'HIGH', '25.917', 'drugY'],\n",
       " ['47', 'M', 'LOW', 'NORMAL', '30.568', 'drugY'],\n",
       " ['48', 'F', 'LOW', 'HIGH', '15.036', 'drugY'],\n",
       " ['33', 'F', 'LOW', 'HIGH', '33.486', 'drugY'],\n",
       " ['28', 'F', 'HIGH', 'NORMAL', '18.809', 'drugY'],\n",
       " ['31', 'M', 'HIGH', 'HIGH', '30.366', 'drugY'],\n",
       " ['49', 'F', 'NORMAL', 'NORMAL', '9.381', 'drugX'],\n",
       " ['39', 'F', 'LOW', 'NORMAL', '22.697', 'drugY'],\n",
       " ['45', 'M', 'LOW', 'HIGH', '17.951', 'drugY'],\n",
       " ['18', 'F', 'NORMAL', 'NORMAL', '8.75', 'drugX'],\n",
       " ['74', 'M', 'HIGH', 'HIGH', '9.567', 'drugB'],\n",
       " ['49', 'M', 'LOW', 'NORMAL', '11.014', 'drugX'],\n",
       " ['65', 'F', 'HIGH', 'NORMAL', '31.876', 'drugY'],\n",
       " ['53', 'M', 'NORMAL', 'HIGH', '14.133', 'drugX'],\n",
       " ['46', 'M', 'NORMAL', 'NORMAL', '7.285', 'drugX'],\n",
       " ['32', 'M', 'HIGH', 'NORMAL', '9.445', 'drugA'],\n",
       " ['39', 'M', 'LOW', 'NORMAL', '13.938', 'drugX'],\n",
       " ['39', 'F', 'NORMAL', 'NORMAL', '9.709', 'drugX'],\n",
       " ['15', 'M', 'NORMAL', 'HIGH', '9.084', 'drugX'],\n",
       " ['73', 'F', 'NORMAL', 'HIGH', '19.221', 'drugY'],\n",
       " ['58', 'F', 'HIGH', 'NORMAL', '14.239', 'drugB'],\n",
       " ['50', 'M', 'NORMAL', 'NORMAL', '15.79', 'drugY'],\n",
       " ['23', 'M', 'NORMAL', 'HIGH', '12.26', 'drugX'],\n",
       " ['50', 'F', 'NORMAL', 'NORMAL', '12.295', 'drugX'],\n",
       " ['66', 'F', 'NORMAL', 'NORMAL', '8.107', 'drugX'],\n",
       " ['37', 'F', 'HIGH', 'HIGH', '13.091', 'drugA'],\n",
       " ['68', 'M', 'LOW', 'HIGH', '10.291', 'drugC'],\n",
       " ['23', 'M', 'NORMAL', 'HIGH', '31.686', 'drugY'],\n",
       " ['28', 'F', 'LOW', 'HIGH', '19.796', 'drugY'],\n",
       " ['58', 'F', 'HIGH', 'HIGH', '19.416', 'drugY'],\n",
       " ['67', 'M', 'NORMAL', 'NORMAL', '10.898', 'drugX'],\n",
       " ['62', 'M', 'LOW', 'NORMAL', '27.183', 'drugY'],\n",
       " ['24', 'F', 'HIGH', 'NORMAL', '18.457', 'drugY'],\n",
       " ['68', 'F', 'HIGH', 'NORMAL', '10.189', 'drugB'],\n",
       " ['26', 'F', 'LOW', 'HIGH', '14.16', 'drugC'],\n",
       " ['65', 'M', 'HIGH', 'NORMAL', '11.34', 'drugB'],\n",
       " ['40', 'M', 'HIGH', 'HIGH', '27.826', 'drugY'],\n",
       " ['60', 'M', 'NORMAL', 'NORMAL', '10.091', 'drugX'],\n",
       " ['34', 'M', 'HIGH', 'HIGH', '18.703', 'drugY'],\n",
       " ['38', 'F', 'LOW', 'NORMAL', '29.875', 'drugY'],\n",
       " ['24', 'M', 'HIGH', 'NORMAL', '9.475', 'drugA'],\n",
       " ['67', 'M', 'LOW', 'NORMAL', '20.693', 'drugY'],\n",
       " ['45', 'M', 'LOW', 'NORMAL', '8.37', 'drugX'],\n",
       " ['60', 'F', 'HIGH', 'HIGH', '13.303', 'drugB'],\n",
       " ['68', 'F', 'NORMAL', 'NORMAL', '27.05', 'drugY'],\n",
       " ['29', 'M', 'HIGH', 'HIGH', '12.856', 'drugA'],\n",
       " ['17', 'M', 'NORMAL', 'NORMAL', '10.832', 'drugX'],\n",
       " ['54', 'M', 'NORMAL', 'HIGH', '24.658', 'drugY'],\n",
       " ['18', 'F', 'HIGH', 'NORMAL', '24.276', 'drugY'],\n",
       " ['70', 'M', 'HIGH', 'HIGH', '13.967', 'drugB'],\n",
       " ['28', 'F', 'NORMAL', 'HIGH', '19.675', 'drugY'],\n",
       " ['24', 'F', 'NORMAL', 'HIGH', '10.605', 'drugX'],\n",
       " ['41', 'F', 'NORMAL', 'NORMAL', '22.905', 'drugY'],\n",
       " ['31', 'M', 'HIGH', 'NORMAL', '17.069', 'drugY'],\n",
       " ['26', 'M', 'LOW', 'NORMAL', '20.909', 'drugY'],\n",
       " ['36', 'F', 'HIGH', 'HIGH', '11.198', 'drugA'],\n",
       " ['26', 'F', 'HIGH', 'NORMAL', '19.161', 'drugY'],\n",
       " ['19', 'F', 'HIGH', 'HIGH', '13.313', 'drugA'],\n",
       " ['32', 'F', 'LOW', 'NORMAL', '10.84', 'drugX'],\n",
       " ['60', 'M', 'HIGH', 'HIGH', '13.934', 'drugB'],\n",
       " ['64', 'M', 'NORMAL', 'HIGH', '7.761', 'drugX'],\n",
       " ['32', 'F', 'LOW', 'HIGH', '9.712', 'drugC'],\n",
       " ['38', 'F', 'HIGH', 'NORMAL', '11.326', 'drugA'],\n",
       " ['47', 'F', 'LOW', 'HIGH', '10.067', 'drugC'],\n",
       " ['59', 'M', 'HIGH', 'HIGH', '13.935', 'drugB'],\n",
       " ['51', 'F', 'NORMAL', 'HIGH', '13.597', 'drugX'],\n",
       " ['69', 'M', 'LOW', 'HIGH', '15.478', 'drugY'],\n",
       " ['37', 'F', 'HIGH', 'NORMAL', '23.091', 'drugY'],\n",
       " ['50', 'F', 'NORMAL', 'NORMAL', '17.211', 'drugY'],\n",
       " ['62', 'M', 'NORMAL', 'HIGH', '16.594', 'drugY'],\n",
       " ['41', 'M', 'HIGH', 'NORMAL', '15.156', 'drugY'],\n",
       " ['29', 'F', 'HIGH', 'HIGH', '29.45', 'drugY'],\n",
       " ['42', 'F', 'LOW', 'NORMAL', '29.271', 'drugY'],\n",
       " ['56', 'M', 'LOW', 'HIGH', '15.015', 'drugY'],\n",
       " ['36', 'M', 'LOW', 'NORMAL', '11.424', 'drugX'],\n",
       " ['58', 'F', 'LOW', 'HIGH', '38.247', 'drugY'],\n",
       " ['56', 'F', 'HIGH', 'HIGH', '25.395', 'drugY'],\n",
       " ['20', 'M', 'HIGH', 'NORMAL', '35.639', 'drugY'],\n",
       " ['15', 'F', 'HIGH', 'NORMAL', '16.725', 'drugY'],\n",
       " ['31', 'M', 'HIGH', 'NORMAL', '11.871', 'drugA'],\n",
       " ['45', 'F', 'HIGH', 'HIGH', '12.854', 'drugA'],\n",
       " ['28', 'F', 'LOW', 'HIGH', '13.127', 'drugC'],\n",
       " ['56', 'M', 'NORMAL', 'HIGH', '8.966', 'drugX'],\n",
       " ['22', 'M', 'HIGH', 'NORMAL', '28.294', 'drugY'],\n",
       " ['37', 'M', 'LOW', 'NORMAL', '8.968', 'drugX'],\n",
       " ['22', 'M', 'NORMAL', 'HIGH', '11.953', 'drugX'],\n",
       " ['42', 'M', 'LOW', 'HIGH', '20.013', 'drugY'],\n",
       " ['72', 'M', 'HIGH', 'NORMAL', '9.677', 'drugB'],\n",
       " ['23', 'M', 'NORMAL', 'HIGH', '16.85', 'drugY'],\n",
       " ['50', 'M', 'HIGH', 'HIGH', '7.49', 'drugA'],\n",
       " ['47', 'F', 'NORMAL', 'NORMAL', '6.683', 'drugX'],\n",
       " ['35', 'M', 'LOW', 'NORMAL', '9.17', 'drugX'],\n",
       " ['65', 'F', 'LOW', 'NORMAL', '13.769', 'drugX'],\n",
       " ['20', 'F', 'NORMAL', 'NORMAL', '9.281', 'drugX'],\n",
       " ['51', 'M', 'HIGH', 'HIGH', '18.295', 'drugY'],\n",
       " ['67', 'M', 'NORMAL', 'NORMAL', '9.514', 'drugX'],\n",
       " ['40', 'F', 'NORMAL', 'HIGH', '10.103', 'drugX'],\n",
       " ['32', 'F', 'HIGH', 'NORMAL', '10.292', 'drugA'],\n",
       " ['61', 'F', 'HIGH', 'HIGH', '25.475', 'drugY'],\n",
       " ['28', 'M', 'NORMAL', 'HIGH', '27.064', 'drugY'],\n",
       " ['15', 'M', 'HIGH', 'NORMAL', '17.206', 'drugY'],\n",
       " ['34', 'M', 'NORMAL', 'HIGH', '22.456', 'drugY'],\n",
       " ['36', 'F', 'NORMAL', 'HIGH', '16.753', 'drugY'],\n",
       " ['53', 'F', 'HIGH', 'NORMAL', '12.495', 'drugB'],\n",
       " ['19', 'F', 'HIGH', 'NORMAL', '25.969', 'drugY'],\n",
       " ['66', 'M', 'HIGH', 'HIGH', '16.347', 'drugY'],\n",
       " ['35', 'M', 'NORMAL', 'NORMAL', '7.845', 'drugX'],\n",
       " ['47', 'M', 'LOW', 'NORMAL', '33.542', 'drugY'],\n",
       " ['32', 'F', 'NORMAL', 'HIGH', '7.477', 'drugX'],\n",
       " ['70', 'F', 'NORMAL', 'HIGH', '20.489', 'drugY'],\n",
       " ['52', 'M', 'LOW', 'NORMAL', '32.922', 'drugY'],\n",
       " ['49', 'M', 'LOW', 'NORMAL', '13.598', 'drugX'],\n",
       " ['24', 'M', 'NORMAL', 'HIGH', '25.786', 'drugY'],\n",
       " ['42', 'F', 'HIGH', 'HIGH', '21.036', 'drugY'],\n",
       " ['74', 'M', 'LOW', 'NORMAL', '11.939', 'drugX'],\n",
       " ['55', 'F', 'HIGH', 'HIGH', '10.977', 'drugB'],\n",
       " ['35', 'F', 'HIGH', 'HIGH', '12.894', 'drugA'],\n",
       " ['51', 'M', 'HIGH', 'NORMAL', '11.343', 'drugB'],\n",
       " ['69', 'F', 'NORMAL', 'HIGH', '10.065', 'drugX'],\n",
       " ['49', 'M', 'HIGH', 'NORMAL', '6.269', 'drugA'],\n",
       " ['64', 'F', 'LOW', 'NORMAL', '25.741', 'drugY'],\n",
       " ['60', 'M', 'HIGH', 'NORMAL', '8.621', 'drugB'],\n",
       " ['74', 'M', 'HIGH', 'NORMAL', '15.436', 'drugY'],\n",
       " ['39', 'M', 'HIGH', 'HIGH', '9.664', 'drugA'],\n",
       " ['61', 'M', 'NORMAL', 'HIGH', '9.443', 'drugX'],\n",
       " ['37', 'F', 'LOW', 'NORMAL', '12.006', 'drugX'],\n",
       " ['26', 'F', 'HIGH', 'NORMAL', '12.307', 'drugA'],\n",
       " ['61', 'F', 'LOW', 'NORMAL', '7.34', 'drugX'],\n",
       " ['22', 'M', 'LOW', 'HIGH', '8.151', 'drugC'],\n",
       " ['49', 'M', 'HIGH', 'NORMAL', '8.7', 'drugA'],\n",
       " ['68', 'M', 'HIGH', 'HIGH', '11.009', 'drugB'],\n",
       " ['55', 'M', 'NORMAL', 'NORMAL', '7.261', 'drugX'],\n",
       " ['72', 'F', 'LOW', 'NORMAL', '14.642', 'drugX'],\n",
       " ['37', 'M', 'LOW', 'NORMAL', '16.724', 'drugY'],\n",
       " ['49', 'M', 'LOW', 'HIGH', '10.537', 'drugC'],\n",
       " ['31', 'M', 'HIGH', 'NORMAL', '11.227', 'drugA'],\n",
       " ['53', 'M', 'LOW', 'HIGH', '22.963', 'drugY'],\n",
       " ['59', 'F', 'LOW', 'HIGH', '10.444', 'drugC'],\n",
       " ['34', 'F', 'LOW', 'NORMAL', '12.923', 'drugX'],\n",
       " ['30', 'F', 'NORMAL', 'HIGH', '10.443', 'drugX'],\n",
       " ['57', 'F', 'HIGH', 'NORMAL', '9.945', 'drugB'],\n",
       " ['43', 'M', 'NORMAL', 'NORMAL', '12.859', 'drugX'],\n",
       " ['21', 'F', 'HIGH', 'NORMAL', '28.632', 'drugY'],\n",
       " ['16', 'M', 'HIGH', 'NORMAL', '19.007', 'drugY'],\n",
       " ['38', 'M', 'LOW', 'HIGH', '18.295', 'drugY'],\n",
       " ['58', 'F', 'LOW', 'HIGH', '26.645', 'drugY'],\n",
       " ['57', 'F', 'NORMAL', 'HIGH', '14.216', 'drugX'],\n",
       " ['51', 'F', 'LOW', 'NORMAL', '23.003', 'drugY'],\n",
       " ['20', 'F', 'HIGH', 'HIGH', '11.262', 'drugA'],\n",
       " ['28', 'F', 'NORMAL', 'HIGH', '12.879', 'drugX'],\n",
       " ['45', 'M', 'LOW', 'NORMAL', '10.017', 'drugX'],\n",
       " ['39', 'F', 'NORMAL', 'NORMAL', '17.225', 'drugY'],\n",
       " ['41', 'F', 'LOW', 'NORMAL', '18.739', 'drugY'],\n",
       " ['42', 'M', 'HIGH', 'NORMAL', '12.766', 'drugA'],\n",
       " ['73', 'F', 'HIGH', 'HIGH', '18.348', 'drugY'],\n",
       " ['48', 'M', 'HIGH', 'NORMAL', '10.446', 'drugA'],\n",
       " ['25', 'M', 'NORMAL', 'HIGH', '19.011', 'drugY'],\n",
       " ['39', 'M', 'NORMAL', 'HIGH', '15.969', 'drugY'],\n",
       " ['67', 'F', 'NORMAL', 'HIGH', '15.891', 'drugY'],\n",
       " ['22', 'F', 'HIGH', 'NORMAL', '22.818', 'drugY'],\n",
       " ['59', 'F', 'NORMAL', 'HIGH', '13.884', 'drugX'],\n",
       " ['20', 'F', 'LOW', 'NORMAL', '11.686', 'drugX'],\n",
       " ['36', 'F', 'HIGH', 'NORMAL', '15.49', 'drugY'],\n",
       " ['18', 'F', 'HIGH', 'HIGH', '37.188', 'drugY'],\n",
       " ['57', 'F', 'NORMAL', 'NORMAL', '25.893', 'drugY'],\n",
       " ['70', 'M', 'HIGH', 'HIGH', '9.849', 'drugB'],\n",
       " ['47', 'M', 'HIGH', 'HIGH', '10.403', 'drugA'],\n",
       " ['65', 'M', 'HIGH', 'NORMAL', '34.997', 'drugY'],\n",
       " ['64', 'M', 'HIGH', 'NORMAL', '20.932', 'drugY'],\n",
       " ['58', 'M', 'HIGH', 'HIGH', '18.991', 'drugY'],\n",
       " ['23', 'M', 'HIGH', 'HIGH', '8.011', 'drugA'],\n",
       " ['72', 'M', 'LOW', 'HIGH', '16.31', 'drugY'],\n",
       " ['72', 'M', 'LOW', 'HIGH', '6.769', 'drugC'],\n",
       " ['46', 'F', 'HIGH', 'HIGH', '34.686', 'drugY'],\n",
       " ['56', 'F', 'LOW', 'HIGH', '11.567', 'drugC'],\n",
       " ['16', 'M', 'LOW', 'HIGH', '12.006', 'drugC'],\n",
       " ['52', 'M', 'NORMAL', 'HIGH', '9.894', 'drugX'],\n",
       " ['23', 'M', 'NORMAL', 'NORMAL', '14.02', 'drugX'],\n",
       " ['40', 'F', 'LOW', 'NORMAL', '11.349', 'drugX']]"
      ]
     },
     "execution_count": 8,
     "metadata": {},
     "output_type": "execute_result"
    }
   ],
   "source": [
    "data"
   ]
  },
  {
   "cell_type": "code",
   "execution_count": 9,
   "id": "4a20fc11",
   "metadata": {},
   "outputs": [],
   "source": [
    "import random\n",
    "class DataFrame:\n",
    "    def __init__(self, data):\n",
    "        self.data = data\n",
    "        self.headers = list(data.keys())\n",
    "        self.n_rows = len(list(data.values())[0])\n",
    "        self.n_cols = len(data)\n",
    "        self.types = self._infer_types()\n",
    "        \n",
    "    \"\"\"Head method prints top 5 rows by default\"\"\"\n",
    "    def head(self, n=5):\n",
    "        for header in self.headers:\n",
    "            print(header, end='\\t')\n",
    "        print()\n",
    "        for i in range(n):\n",
    "            for j, header in enumerate(self.headers):\n",
    "                print(self.data[header][i], end='\\t')\n",
    "            print()\n",
    "            \n",
    "    \"\"\"The _infer_types() method infers the data type of each column based on the types of the values in the column.\n",
    "        It creates a dictionary mapping column names to data types. If all values in a column have the same type,\n",
    "        that type is used as the column's data type. Otherwise, the column is treated as an object column.\"\"\"\n",
    "    def _infer_types(self):\n",
    "        types = {}\n",
    "        for header in self.headers:\n",
    "            column = self.data[header]\n",
    "            type_set = set(type(x).__name__ for x in column)\n",
    "            if len(type_set) == 1:\n",
    "                types[header] = type_set.pop()\n",
    "            else:\n",
    "                types[header] = 'object'\n",
    "        return types\n",
    "    \n",
    "    \"\"\"The _convert_column() method converts the data type of a column to a new type,\n",
    "        using the built-in int(), float(), or str() functions.\"\"\"\n",
    "    def _convert_column(self, header, new_type):\n",
    "        column = self.data[header]\n",
    "        if new_type == 'int':\n",
    "            self.data[header] = [int(x) for x in column]\n",
    "        elif new_type == 'float':\n",
    "            self.data[header] = [float(x) for x in column]\n",
    "        elif new_type == 'str':\n",
    "            self.data[header] = [str(x) for x in column]\n",
    "        else:\n",
    "            raise ValueError('Invalid data type')\n",
    "    \n",
    "    \"\"\"The convert_type() method allows the user to convert the data type of a specific column to a new type.\n",
    "        It first checks that the column name and new data type are valid,\n",
    "        then checks whether the current data type of the column matches the new data type.\n",
    "        If it does, no conversion is needed. Otherwise, it calls the _convert_column() method to perform the conversion \n",
    "        and updates the column's data type in the types dictionary.\"\"\"\n",
    "    def convert_type(self, header, new_type):\n",
    "        if header not in self.headers:\n",
    "            raise ValueError('Invalid header')\n",
    "        if new_type not in ('int', 'float', 'str'):\n",
    "            raise ValueError('Invalid data type')\n",
    "        current_type = self.types[header]\n",
    "        if new_type == current_type:\n",
    "            return\n",
    "        self._convert_column(header, new_type)\n",
    "        self.types[header] = new_type\n",
    "        \n",
    "    def unique_values(self):\n",
    "        unique_values_dict = {}\n",
    "        for header in self.headers:\n",
    "            unique_values_dict[header] = list(set(self.data[header]))\n",
    "        return unique_values_dict\n",
    "    \n",
    "    def cat_to_num(self,column):\n",
    "        unique_categories=list(set(self.data[column]))#get unique categorical values in column\n",
    "        mapping= {category: i for i, category in enumerate(unique_categories)}  #create dict to map each unique categorical to a numerical value\n",
    "        #Replace each categorical value with its corresponding numerical value\n",
    "        for i in range(self.n_rows):\n",
    "            self.data[column][i]=mapping[self.data[column][i]]\n",
    "            \n",
    "    def split_train_test(self, split_ratio):\n",
    "        if not 0 <= split_ratio <= 1:\n",
    "            raise ValueError('Invalid split ratio')\n",
    "        n_rows = self.n_rows\n",
    "        n_train = int(split_ratio * n_rows)\n",
    "        train_indices = set(random.sample(range(n_rows), n_train))\n",
    "        test_indices = set(range(n_rows)) - train_indices\n",
    "        train_data = {header: [self.data[header][i] for i in train_indices] for header in self.headers}\n",
    "        test_data = {header: [self.data[header][i] for i in test_indices] for header in self.headers}\n",
    "        train_df = DataFrame(train_data)\n",
    "        test_df = DataFrame(test_data)\n",
    "        return train_df, test_df\n"
   ]
  },
  {
   "cell_type": "code",
   "execution_count": 10,
   "id": "54999cbe",
   "metadata": {},
   "outputs": [],
   "source": [
    "# Convert to dictionary\n",
    "data_dict = {}\n",
    "for i, header in enumerate(headers):\n",
    "    data_dict[header] = [row[i] for row in data]"
   ]
  },
  {
   "cell_type": "code",
   "execution_count": 11,
   "id": "7cbda132",
   "metadata": {},
   "outputs": [],
   "source": [
    "#convert to dataframe\n",
    "df = DataFrame(data_dict)"
   ]
  },
  {
   "cell_type": "code",
   "execution_count": 12,
   "id": "60a5ef7b",
   "metadata": {},
   "outputs": [
    {
     "data": {
      "text/plain": [
       "<__main__.DataFrame at 0x19a1a873af0>"
      ]
     },
     "execution_count": 12,
     "metadata": {},
     "output_type": "execute_result"
    }
   ],
   "source": [
    "df"
   ]
  },
  {
   "cell_type": "code",
   "execution_count": 13,
   "id": "cd61e6ed",
   "metadata": {},
   "outputs": [
    {
     "name": "stdout",
     "output_type": "stream",
     "text": [
      "Age\tSex\tBP\tCholesterol\tNa_to_K\tDrug\t\n",
      "23\tF\tHIGH\tHIGH\t25.355\tdrugY\t\n",
      "47\tM\tLOW\tHIGH\t13.093\tdrugC\t\n",
      "47\tM\tLOW\tHIGH\t10.114\tdrugC\t\n",
      "28\tF\tNORMAL\tHIGH\t7.798\tdrugX\t\n",
      "61\tF\tLOW\tHIGH\t18.043\tdrugY\t\n"
     ]
    }
   ],
   "source": [
    "#Shows top 5 rows\n",
    "df.head()"
   ]
  },
  {
   "cell_type": "code",
   "execution_count": 14,
   "id": "2a1877e5",
   "metadata": {},
   "outputs": [
    {
     "data": {
      "text/plain": [
       "(200, 6)"
      ]
     },
     "execution_count": 14,
     "metadata": {},
     "output_type": "execute_result"
    }
   ],
   "source": [
    "#shape of dataframe\n",
    "df.n_rows,df.n_cols"
   ]
  },
  {
   "cell_type": "code",
   "execution_count": 15,
   "id": "8b029856",
   "metadata": {},
   "outputs": [
    {
     "name": "stdout",
     "output_type": "stream",
     "text": [
      "{'Age': 'str', 'Sex': 'str', 'BP': 'str', 'Cholesterol': 'str', 'Na_to_K': 'str', 'Drug': 'str'}\n"
     ]
    }
   ],
   "source": [
    "# Print data types\n",
    "print(df.types)"
   ]
  },
  {
   "cell_type": "code",
   "execution_count": 16,
   "id": "446e3abe",
   "metadata": {},
   "outputs": [],
   "source": [
    "# Convert Age and Na_to_K column to float\n",
    "df.convert_type('Age', 'int')\n",
    "df.convert_type('Na_to_K','float')"
   ]
  },
  {
   "cell_type": "code",
   "execution_count": 17,
   "id": "c8bdac70",
   "metadata": {},
   "outputs": [
    {
     "name": "stdout",
     "output_type": "stream",
     "text": [
      "{'Age': 'int', 'Sex': 'str', 'BP': 'str', 'Cholesterol': 'str', 'Na_to_K': 'float', 'Drug': 'str'}\n"
     ]
    }
   ],
   "source": [
    "# Print data types\n",
    "print(df.types)"
   ]
  },
  {
   "cell_type": "code",
   "execution_count": 18,
   "id": "83094518",
   "metadata": {},
   "outputs": [
    {
     "name": "stdout",
     "output_type": "stream",
     "text": [
      "{'Age': [15, 16, 17, 18, 19, 20, 21, 22, 23, 24, 25, 26, 28, 29, 30, 31, 32, 33, 34, 35, 36, 37, 38, 39, 40, 41, 42, 43, 45, 46, 47, 48, 49, 50, 51, 52, 53, 54, 55, 56, 57, 58, 59, 60, 61, 62, 63, 64, 65, 66, 67, 68, 69, 70, 72, 73, 74], 'Sex': ['M', 'F'], 'BP': ['NORMAL', 'LOW', 'HIGH'], 'Cholesterol': ['NORMAL', 'HIGH'], 'Na_to_K': [6.683, 7.798, 8.607, 7.298, 10.114, 11.037, 11.767, 13.972, 13.093, 12.703, 15.171, 16.275, 15.376, 18.043, 19.368, 19.199, 20.942, 15.516, 19.128, 25.355, 25.974, 25.917, 22.697, 27.183, 30.568, 30.366, 31.876, 33.486, 31.686, 27.826, 29.875, 29.45, 29.271, 38.247, 35.639, 8.75, 8.107, 37.188, 9.381, 9.567, 9.445, 9.677, 9.945, 10.189, 10.832, 10.067, 11.198, 11.326, 11.424, 11.939, 11.009, 12.854, 12.006, 11.262, 11.686, 11.567, 13.884, 15.79, 15.015, 15.436, 16.594, 16.725, 16.85, 16.753, 16.347, 17.951, 17.211, 17.225, 18.457, 18.295, 18.348, 18.991, 19.796, 19.161, 7.845, 20.909, 21.036, 22.905, 22.963, 23.091, 23.003, 24.658, 25.475, 25.969, 25.786, 25.741, 25.893, 27.064, 6.269, 6.769, 32.922, 33.542, 8.37, 34.997, 34.686, 9.281, 9.443, 9.894, 10.065, 10.537, 10.443, 10.446, 10.403, 11.455, 12.26, 12.495, 12.894, 12.879, 12.766, 13.967, 13.934, 13.769, 13.598, 15.156, 15.891, 7.285, 7.477, 7.34, 8.968, 8.151, 8.7, 8.011, 9.709, 9.084, 9.712, 9.514, 9.849, 10.291, 10.898, 10.605, 10.84, 10.977, 11.014, 11.34, 11.953, 11.343, 11.227, 11.349, 13.303, 14.133, 14.239, 14.16, 14.642, 14.02, 16.724, 16.31, 17.069, 17.206, 18.809, 18.703, 18.739, 19.221, 19.416, 19.675, 19.007, 7.761, 20.693, 20.013, 20.489, 7.261, 19.011, 20.932, 22.456, 22.818, 24.276, 25.395, 26.645, 27.05, 10.017, 28.294, 28.632, 7.49, 8.966, 8.621, 9.475, 9.17, 9.664, 10.091, 10.103, 10.292, 10.444, 11.871, 12.295, 12.856, 12.307, 12.923, 12.859, 13.938, 13.091, 13.313, 13.935, 13.597, 13.127, 14.216, 15.036, 15.478, 15.969, 15.49], 'Drug': ['drugC', 'drugY', 'drugA', 'drugB', 'drugX']}\n"
     ]
    }
   ],
   "source": [
    "unique_values_dict = df.unique_values()\n",
    "print(unique_values_dict)"
   ]
  },
  {
   "cell_type": "code",
   "execution_count": 19,
   "id": "21dcebfb",
   "metadata": {},
   "outputs": [],
   "source": [
    "#converting all categorical columns to numerical\n",
    "df.cat_to_num('Drug')\n",
    "df.cat_to_num('Sex')\n",
    "df.cat_to_num('BP')\n",
    "df.cat_to_num('Cholesterol')"
   ]
  },
  {
   "cell_type": "code",
   "execution_count": 20,
   "id": "79d9549c",
   "metadata": {},
   "outputs": [
    {
     "name": "stdout",
     "output_type": "stream",
     "text": [
      "Age\tSex\tBP\tCholesterol\tNa_to_K\tDrug\t\n",
      "23\t1\t2\t1\t25.355\t1\t\n",
      "47\t0\t1\t1\t13.093\t0\t\n",
      "47\t0\t1\t1\t10.114\t0\t\n",
      "28\t1\t0\t1\t7.798\t4\t\n",
      "61\t1\t1\t1\t18.043\t1\t\n"
     ]
    }
   ],
   "source": [
    "df.head()"
   ]
  },
  {
   "cell_type": "code",
   "execution_count": 21,
   "id": "486f91c1",
   "metadata": {},
   "outputs": [],
   "source": [
    "# Partition the dataset into training and testing datasets\n",
    "\n",
    "train_df, test_df = df.split_train_test(0.7)"
   ]
  },
  {
   "cell_type": "code",
   "execution_count": 22,
   "id": "fc74965d",
   "metadata": {},
   "outputs": [
    {
     "data": {
      "text/plain": [
       "(140, 6)"
      ]
     },
     "execution_count": 22,
     "metadata": {},
     "output_type": "execute_result"
    }
   ],
   "source": [
    "#shape of train data\n",
    "train_df.n_rows,train_df.n_cols"
   ]
  },
  {
   "cell_type": "code",
   "execution_count": 23,
   "id": "b445ecd2",
   "metadata": {},
   "outputs": [
    {
     "data": {
      "text/plain": [
       "(60, 6)"
      ]
     },
     "execution_count": 23,
     "metadata": {},
     "output_type": "execute_result"
    }
   ],
   "source": [
    "#shape of test data\n",
    "test_df.n_rows,test_df.n_cols"
   ]
  },
  {
   "cell_type": "code",
   "execution_count": 24,
   "id": "02089d9b",
   "metadata": {},
   "outputs": [],
   "source": [
    "target_col= 'Drug'\n",
    "# Get all column names except for the target column\n",
    "feature_cols = [col for col in train_df.headers if col != target_col]\n",
    "\n",
    "# Create X and Y dataframes by selecting the appropriate columns\n",
    "X_train = DataFrame({col: train_df.data[col] for col in feature_cols})\n",
    "y_train = DataFrame({target_col: train_df.data[target_col]})\n",
    "X_test = DataFrame({col: test_df.data[col] for col in feature_cols})\n",
    "y_test = DataFrame({target_col: test_df.data[target_col]})"
   ]
  },
  {
   "cell_type": "code",
   "execution_count": 25,
   "id": "57443418",
   "metadata": {},
   "outputs": [
    {
     "name": "stdout",
     "output_type": "stream",
     "text": [
      "Age\tSex\tBP\tCholesterol\tNa_to_K\t\n",
      "23\t1\t2\t1\t25.355\t\n",
      "47\t0\t1\t1\t13.093\t\n",
      "47\t0\t1\t1\t10.114\t\n",
      "28\t1\t0\t1\t7.798\t\n",
      "22\t1\t0\t1\t8.607\t\n"
     ]
    }
   ],
   "source": [
    "X_train.head()"
   ]
  },
  {
   "cell_type": "code",
   "execution_count": 26,
   "id": "a285d5eb",
   "metadata": {},
   "outputs": [
    {
     "name": "stdout",
     "output_type": "stream",
     "text": [
      "Drug\t\n",
      "1\t\n",
      "0\t\n",
      "0\t\n",
      "4\t\n",
      "4\t\n"
     ]
    }
   ],
   "source": [
    "y_train.head()"
   ]
  },
  {
   "cell_type": "code",
   "execution_count": null,
   "id": "bcb47b57",
   "metadata": {},
   "outputs": [],
   "source": []
  }
 ],
 "metadata": {
  "kernelspec": {
   "display_name": "Python 3 (ipykernel)",
   "language": "python",
   "name": "python3"
  },
  "language_info": {
   "codemirror_mode": {
    "name": "ipython",
    "version": 3
   },
   "file_extension": ".py",
   "mimetype": "text/x-python",
   "name": "python",
   "nbconvert_exporter": "python",
   "pygments_lexer": "ipython3",
   "version": "3.9.13"
  }
 },
 "nbformat": 4,
 "nbformat_minor": 5
}
